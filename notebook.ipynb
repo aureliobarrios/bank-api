{
 "cells": [
  {
   "cell_type": "markdown",
   "id": "6cf8ceee",
   "metadata": {},
   "source": [
    "### Test Your Code Here"
   ]
  },
  {
   "cell_type": "code",
   "id": "ed26b81d",
   "metadata": {
    "vscode": {
     "languageId": "python"
    },
    "ExecuteTime": {
     "end_time": "2025-08-05T21:46:00.211108Z",
     "start_time": "2025-08-05T21:46:00.193940Z"
    }
   },
   "source": [
    "from bank import Bank\n",
    "from user import BankUser"
   ],
   "outputs": [],
   "execution_count": 1
  },
  {
   "cell_type": "code",
   "id": "99e6639a",
   "metadata": {
    "vscode": {
     "languageId": "python"
    },
    "ExecuteTime": {
     "end_time": "2025-08-05T21:46:01.211239Z",
     "start_time": "2025-08-05T21:46:01.208552Z"
    }
   },
   "source": [
    "bank_one = Bank(\"INSERT BANK NAME HERE\")\n"
   ],
   "outputs": [],
   "execution_count": 2
  },
  {
   "cell_type": "code",
   "id": "86d2d83b",
   "metadata": {
    "vscode": {
     "languageId": "python"
    },
    "ExecuteTime": {
     "end_time": "2025-08-05T21:46:02.237722Z",
     "start_time": "2025-08-05T21:46:02.125799Z"
    }
   },
   "source": [
    "#should be an error, we dont want to be able to access the bank data\n",
    "bank_one.__bank_data"
   ],
   "outputs": [
    {
     "ename": "AttributeError",
     "evalue": "'Bank' object has no attribute '__bank_data'",
     "output_type": "error",
     "traceback": [
      "\u001B[31m---------------------------------------------------------------------------\u001B[39m",
      "\u001B[31mAttributeError\u001B[39m                            Traceback (most recent call last)",
      "\u001B[36mCell\u001B[39m\u001B[36m \u001B[39m\u001B[32mIn[3]\u001B[39m\u001B[32m, line 2\u001B[39m\n\u001B[32m      1\u001B[39m \u001B[38;5;66;03m#should be an error, we dont want to be able to access the bank data\u001B[39;00m\n\u001B[32m----> \u001B[39m\u001B[32m2\u001B[39m \u001B[43mbank_one\u001B[49m\u001B[43m.\u001B[49m\u001B[43m__bank_data\u001B[49m\n",
      "\u001B[31mAttributeError\u001B[39m: 'Bank' object has no attribute '__bank_data'"
     ]
    }
   ],
   "execution_count": 3
  },
  {
   "cell_type": "code",
   "id": "f7ccf953",
   "metadata": {
    "vscode": {
     "languageId": "python"
    },
    "ExecuteTime": {
     "end_time": "2025-08-05T21:46:03.833974Z",
     "start_time": "2025-08-05T21:46:03.831859Z"
    }
   },
   "source": [
    "user_one = BankUser(\"USERNAME\", \"PASSWORD\", bank_one)"
   ],
   "outputs": [],
   "execution_count": 4
  },
  {
   "cell_type": "code",
   "id": "877fe799",
   "metadata": {
    "vscode": {
     "languageId": "python"
    },
    "ExecuteTime": {
     "end_time": "2025-08-05T21:46:05.187305Z",
     "start_time": "2025-08-05T21:46:05.171505Z"
    }
   },
   "source": [
    "#should be an error, we dont want to be able to access users password\n",
    "user_one.__password"
   ],
   "outputs": [
    {
     "ename": "AttributeError",
     "evalue": "'BankUser' object has no attribute '__password'",
     "output_type": "error",
     "traceback": [
      "\u001B[31m---------------------------------------------------------------------------\u001B[39m",
      "\u001B[31mAttributeError\u001B[39m                            Traceback (most recent call last)",
      "\u001B[36mCell\u001B[39m\u001B[36m \u001B[39m\u001B[32mIn[5]\u001B[39m\u001B[32m, line 2\u001B[39m\n\u001B[32m      1\u001B[39m \u001B[38;5;66;03m#should be an error, we dont want to be able to access users password\u001B[39;00m\n\u001B[32m----> \u001B[39m\u001B[32m2\u001B[39m \u001B[43muser_one\u001B[49m\u001B[43m.\u001B[49m\u001B[43m__password\u001B[49m\n",
      "\u001B[31mAttributeError\u001B[39m: 'BankUser' object has no attribute '__password'"
     ]
    }
   ],
   "execution_count": 5
  },
  {
   "cell_type": "code",
   "id": "707b5c76",
   "metadata": {
    "vscode": {
     "languageId": "python"
    },
    "ExecuteTime": {
     "end_time": "2025-08-05T21:46:06.433727Z",
     "start_time": "2025-08-05T21:46:06.428523Z"
    }
   },
   "source": [
    "#output should be zero\n",
    "user_one.check_balance()"
   ],
   "outputs": [
    {
     "data": {
      "text/plain": [
       "0"
      ]
     },
     "execution_count": 6,
     "metadata": {},
     "output_type": "execute_result"
    }
   ],
   "execution_count": 6
  },
  {
   "cell_type": "code",
   "id": "b940882a",
   "metadata": {
    "vscode": {
     "languageId": "python"
    },
    "ExecuteTime": {
     "end_time": "2025-08-05T21:46:07.605084Z",
     "start_time": "2025-08-05T21:46:07.601709Z"
    }
   },
   "source": [
    "user_one.deposit(150)\n",
    "\n",
    "user_one.withdraw(50)\n",
    "\n",
    "#output should be 100\n",
    "user_one.check_balance()"
   ],
   "outputs": [
    {
     "data": {
      "text/plain": [
       "100"
      ]
     },
     "execution_count": 7,
     "metadata": {},
     "output_type": "execute_result"
    }
   ],
   "execution_count": 7
  },
  {
   "cell_type": "code",
   "id": "fa1bf91b",
   "metadata": {
    "vscode": {
     "languageId": "python"
    },
    "ExecuteTime": {
     "end_time": "2025-08-05T21:46:08.899690Z",
     "start_time": "2025-08-05T21:46:08.896203Z"
    }
   },
   "source": [
    "#should not work since balance is only 50\n",
    "user_one.withdraw(2000)"
   ],
   "outputs": [
    {
     "data": {
      "text/plain": [
       "'Balance insufficient'"
      ]
     },
     "execution_count": 8,
     "metadata": {},
     "output_type": "execute_result"
    }
   ],
   "execution_count": 8
  }
 ],
 "metadata": {
  "kernelspec": {
   "display_name": "Python 3 (ipykernel)",
   "language": "python",
   "name": "python3"
  },
  "language_info": {
   "codemirror_mode": {
    "name": "ipython",
    "version": 3
   },
   "file_extension": ".py",
   "mimetype": "text/x-python",
   "name": "polyglot-notebook",
   "nbconvert_exporter": "python",
   "pygments_lexer": "ipython3",
   "version": "3.9.6"
  },
  "polyglot_notebook": {
   "kernelInfo": {
    "defaultKernelName": "csharp",
    "items": [
     {
      "aliases": [],
      "name": "csharp"
     }
    ]
   }
  }
 },
 "nbformat": 4,
 "nbformat_minor": 5
}
